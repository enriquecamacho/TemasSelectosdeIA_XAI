{
  "nbformat": 4,
  "nbformat_minor": 0,
  "metadata": {
    "colab": {
      "provenance": [],
      "include_colab_link": true
    },
    "kernelspec": {
      "name": "python3",
      "display_name": "Python 3"
    },
    "accelerator": "GPU"
  },
  "cells": [
    {
      "cell_type": "markdown",
      "metadata": {
        "id": "view-in-github",
        "colab_type": "text"
      },
      "source": [
        "<a href=\"https://colab.research.google.com/github/enriquecamacho/TemasSelectosdeIA_XAI/blob/main/Metricas_de_Clasificacion_CANCER.ipynb\" target=\"_parent\"><img src=\"https://colab.research.google.com/assets/colab-badge.svg\" alt=\"Open In Colab\"/></a>"
      ]
    },
    {
      "metadata": {
        "id": "A_5noAffQiFu"
      },
      "cell_type": "markdown",
      "source": [
        "# Comprendiendo las Métricas de Clasificación\n"
      ]
    },
    {
      "metadata": {
        "id": "ZEfpi-qnQhvI"
      },
      "cell_type": "markdown",
      "source": [
        "In this notebook, we make a clear understanding of the different metrics used to determine the performance of any classifier. We will calculate different metrics and see what it represents.   \n",
        "We will calculate these metrics by defining our own functions, and also verify them by comparing with `scikit-learn's` library functions.   "
      ]
    },
    {
      "metadata": {
        "id": "YjJmGxnbY9m9"
      },
      "cell_type": "markdown",
      "source": [
        "Lets start with importing libraries we will need in this notebook."
      ]
    },
    {
      "metadata": {
        "id": "eXSU_fk7RlEM"
      },
      "cell_type": "markdown",
      "source": [
        "### Importing libraries"
      ]
    },
    {
      "metadata": {
        "id": "Sx4KZX7cF8Yd"
      },
      "cell_type": "code",
      "source": [
        "import numpy as np\n",
        "import pandas as pd\n",
        "from sklearn.datasets import load_breast_cancer\n",
        "from sklearn.model_selection import train_test_split\n",
        "from sklearn import svm\n",
        "from sklearn import metrics\n",
        "import matplotlib.pyplot as plt\n",
        "import seaborn as sns\n",
        "import itertools\n",
        "\n",
        "np.random.seed(42)  # for reproducibility\n",
        "sns.set(rc={\"figure.figsize\": (8, 8)})\n",
        "sns.set_style(\"ticks\")"
      ],
      "execution_count": null,
      "outputs": []
    },
    {
      "metadata": {
        "id": "0pddJrEbRtbr"
      },
      "cell_type": "markdown",
      "source": [
        "### Dataset\n",
        "For comparing different metrics, we will use the [Breast Cancer Dataset](https://goo.gl/U2Uwz2) which is provided by sckit-learn in `dataset` module. This dataset is used for binary classification between two types of cancer."
      ]
    },
    {
      "metadata": {
        "id": "glPEglrYGV6f",
        "colab": {
          "base_uri": "https://localhost:8080/"
        },
        "outputId": "021d716f-4e6a-4ec9-d6bf-10990d55bd16"
      },
      "cell_type": "code",
      "source": [
        "data = load_breast_cancer()\n",
        "print(data.DESCR[:760])  # print short description"
      ],
      "execution_count": null,
      "outputs": [
        {
          "output_type": "stream",
          "name": "stdout",
          "text": [
            ".. _breast_cancer_dataset:\n",
            "\n",
            "Breast cancer wisconsin (diagnostic) dataset\n",
            "--------------------------------------------\n",
            "\n",
            "**Data Set Characteristics:**\n",
            "\n",
            "    :Number of Instances: 569\n",
            "\n",
            "    :Number of Attributes: 30 numeric, predictive attributes and the class\n",
            "\n",
            "    :Attribute Information:\n",
            "        - radius (mean of distances from center to points on the perimeter)\n",
            "        - texture (standard deviation of gray-scale values)\n",
            "        - perimeter\n",
            "        - area\n",
            "        - smoothness (local variation in radius lengths)\n",
            "        - compactness (perimeter^2 / area - 1.0)\n",
            "        - concavity (severity of concave portions of the contour)\n",
            "        - concave points (number of concave portions of the contour)\n",
            "        - symmetry\n",
            "        - fractal dimension (\"coastline appr\n"
          ]
        }
      ]
    },
    {
      "metadata": {
        "id": "XQyaWAlhSTLL"
      },
      "cell_type": "markdown",
      "source": [
        "Let's see what are the targets classes i.e. types of cancer."
      ]
    },
    {
      "metadata": {
        "id": "bStQWeSOSSp2",
        "colab": {
          "base_uri": "https://localhost:8080/"
        },
        "outputId": "dd7146ef-71cf-499f-82b5-981583df8acc"
      },
      "cell_type": "code",
      "source": [
        "print(f\"Types of cancer (targets) are {data.target_names}\")"
      ],
      "execution_count": null,
      "outputs": [
        {
          "output_type": "stream",
          "name": "stdout",
          "text": [
            "Types of cancer (targets) are ['malignant' 'benign']\n"
          ]
        }
      ]
    },
    {
      "metadata": {
        "id": "JizLx4ZfSZ-y"
      },
      "cell_type": "markdown",
      "source": [
        "What is the dimension of data?  We see there are **569 examples** and each example has **30 features**.  \n",
        "The **target** variable is binary (**0 and 1** for `malignant` and `benign`).   \n",
        "We will consider `benign` as `positive` class, and `malignant` as `negative` class.  \n",
        "We can understand it as:  \n",
        "`0 for is_not_benign`  \n",
        "`1 for is_benign`"
      ]
    },
    {
      "metadata": {
        "id": "xG-br8XcHXHC",
        "colab": {
          "base_uri": "https://localhost:8080/"
        },
        "outputId": "321f3fcf-4412-463b-d2d2-d4a7677fabe6"
      },
      "cell_type": "code",
      "source": [
        "X = data.data  # features\n",
        "y = data.target  # labels\n",
        "print(f\"Shape of features is {X.shape}, and shape of target is {y.shape}\")"
      ],
      "execution_count": null,
      "outputs": [
        {
          "output_type": "stream",
          "name": "stdout",
          "text": [
            "Shape of features is (569, 30), and shape of target is (569,)\n"
          ]
        }
      ]
    },
    {
      "metadata": {
        "id": "zpdfCVt8TW5K"
      },
      "cell_type": "markdown",
      "source": [
        "### Split the data\n",
        "Since we shouldn't train and test our model with the same dataset, it is always a good idea to split the data in three parts - train data, test data, and validation data.  \n",
        "We won't require validation data here.\n",
        "We split the dataset into training and testing data, with 369 examples for training, and 200 examples for testing."
      ]
    },
    {
      "metadata": {
        "id": "QsgrNr2RINsN"
      },
      "cell_type": "code",
      "source": [
        "X_train, X_test, y_train, y_test = train_test_split(X, y, test_size=200, random_state=42, stratify=y) #test_size=0.30"
      ],
      "execution_count": null,
      "outputs": []
    },
    {
      "metadata": {
        "id": "YAU7JsyNJhc-",
        "colab": {
          "base_uri": "https://localhost:8080/"
        },
        "outputId": "865125a0-172a-4ed8-c2fd-3fced9e676e6"
      },
      "cell_type": "code",
      "source": [
        "y_train[:10]"
      ],
      "execution_count": null,
      "outputs": [
        {
          "output_type": "execute_result",
          "data": {
            "text/plain": [
              "array([1, 1, 1, 1, 0, 1, 1, 1, 0, 1])"
            ]
          },
          "metadata": {},
          "execution_count": 7
        }
      ]
    },
    {
      "metadata": {
        "id": "DVCi5RMsJE-O"
      },
      "cell_type": "markdown",
      "source": [
        "### Training and predicting data"
      ]
    },
    {
      "metadata": {
        "id": "4iRqwJU-TmIt"
      },
      "cell_type": "markdown",
      "source": [
        "In this example, we will use scikit's Support Vector Machines classifier to predict whether its a benign cancer.  \n",
        "`SVC` classifier is used from `sklearn.svm`. Ofcourse, we can try any of the other classifiers and compare accuracies."
      ]
    },
    {
      "metadata": {
        "id": "4pKL5VoJKh8A"
      },
      "cell_type": "code",
      "source": [
        "classifier = svm.SVC(kernel='linear', probability=True, verbose=True)"
      ],
      "execution_count": null,
      "outputs": []
    },
    {
      "metadata": {
        "id": "6DwkhGMyT2BJ"
      },
      "cell_type": "markdown",
      "source": [
        "Next we fit/train the model on our _training dataset_. It trains quite fast since we are working with relatively small dataset."
      ]
    },
    {
      "metadata": {
        "id": "1rj0E-XnLWaH",
        "colab": {
          "base_uri": "https://localhost:8080/",
          "height": 91
        },
        "outputId": "eef31a0b-2d49-4d61-e7e5-7200a45fd915"
      },
      "cell_type": "code",
      "source": [
        "classifier.fit(X_train, y_train)"
      ],
      "execution_count": null,
      "outputs": [
        {
          "output_type": "stream",
          "name": "stdout",
          "text": [
            "[LibSVM]"
          ]
        },
        {
          "output_type": "execute_result",
          "data": {
            "text/plain": [
              "SVC(kernel='linear', probability=True, verbose=True)"
            ],
            "text/html": [
              "<style>#sk-container-id-1 {color: black;background-color: white;}#sk-container-id-1 pre{padding: 0;}#sk-container-id-1 div.sk-toggleable {background-color: white;}#sk-container-id-1 label.sk-toggleable__label {cursor: pointer;display: block;width: 100%;margin-bottom: 0;padding: 0.3em;box-sizing: border-box;text-align: center;}#sk-container-id-1 label.sk-toggleable__label-arrow:before {content: \"▸\";float: left;margin-right: 0.25em;color: #696969;}#sk-container-id-1 label.sk-toggleable__label-arrow:hover:before {color: black;}#sk-container-id-1 div.sk-estimator:hover label.sk-toggleable__label-arrow:before {color: black;}#sk-container-id-1 div.sk-toggleable__content {max-height: 0;max-width: 0;overflow: hidden;text-align: left;background-color: #f0f8ff;}#sk-container-id-1 div.sk-toggleable__content pre {margin: 0.2em;color: black;border-radius: 0.25em;background-color: #f0f8ff;}#sk-container-id-1 input.sk-toggleable__control:checked~div.sk-toggleable__content {max-height: 200px;max-width: 100%;overflow: auto;}#sk-container-id-1 input.sk-toggleable__control:checked~label.sk-toggleable__label-arrow:before {content: \"▾\";}#sk-container-id-1 div.sk-estimator input.sk-toggleable__control:checked~label.sk-toggleable__label {background-color: #d4ebff;}#sk-container-id-1 div.sk-label input.sk-toggleable__control:checked~label.sk-toggleable__label {background-color: #d4ebff;}#sk-container-id-1 input.sk-hidden--visually {border: 0;clip: rect(1px 1px 1px 1px);clip: rect(1px, 1px, 1px, 1px);height: 1px;margin: -1px;overflow: hidden;padding: 0;position: absolute;width: 1px;}#sk-container-id-1 div.sk-estimator {font-family: monospace;background-color: #f0f8ff;border: 1px dotted black;border-radius: 0.25em;box-sizing: border-box;margin-bottom: 0.5em;}#sk-container-id-1 div.sk-estimator:hover {background-color: #d4ebff;}#sk-container-id-1 div.sk-parallel-item::after {content: \"\";width: 100%;border-bottom: 1px solid gray;flex-grow: 1;}#sk-container-id-1 div.sk-label:hover label.sk-toggleable__label {background-color: #d4ebff;}#sk-container-id-1 div.sk-serial::before {content: \"\";position: absolute;border-left: 1px solid gray;box-sizing: border-box;top: 0;bottom: 0;left: 50%;z-index: 0;}#sk-container-id-1 div.sk-serial {display: flex;flex-direction: column;align-items: center;background-color: white;padding-right: 0.2em;padding-left: 0.2em;position: relative;}#sk-container-id-1 div.sk-item {position: relative;z-index: 1;}#sk-container-id-1 div.sk-parallel {display: flex;align-items: stretch;justify-content: center;background-color: white;position: relative;}#sk-container-id-1 div.sk-item::before, #sk-container-id-1 div.sk-parallel-item::before {content: \"\";position: absolute;border-left: 1px solid gray;box-sizing: border-box;top: 0;bottom: 0;left: 50%;z-index: -1;}#sk-container-id-1 div.sk-parallel-item {display: flex;flex-direction: column;z-index: 1;position: relative;background-color: white;}#sk-container-id-1 div.sk-parallel-item:first-child::after {align-self: flex-end;width: 50%;}#sk-container-id-1 div.sk-parallel-item:last-child::after {align-self: flex-start;width: 50%;}#sk-container-id-1 div.sk-parallel-item:only-child::after {width: 0;}#sk-container-id-1 div.sk-dashed-wrapped {border: 1px dashed gray;margin: 0 0.4em 0.5em 0.4em;box-sizing: border-box;padding-bottom: 0.4em;background-color: white;}#sk-container-id-1 div.sk-label label {font-family: monospace;font-weight: bold;display: inline-block;line-height: 1.2em;}#sk-container-id-1 div.sk-label-container {text-align: center;}#sk-container-id-1 div.sk-container {/* jupyter's `normalize.less` sets `[hidden] { display: none; }` but bootstrap.min.css set `[hidden] { display: none !important; }` so we also need the `!important` here to be able to override the default hidden behavior on the sphinx rendered scikit-learn.org. See: https://github.com/scikit-learn/scikit-learn/issues/21755 */display: inline-block !important;position: relative;}#sk-container-id-1 div.sk-text-repr-fallback {display: none;}</style><div id=\"sk-container-id-1\" class=\"sk-top-container\"><div class=\"sk-text-repr-fallback\"><pre>SVC(kernel=&#x27;linear&#x27;, probability=True, verbose=True)</pre><b>In a Jupyter environment, please rerun this cell to show the HTML representation or trust the notebook. <br />On GitHub, the HTML representation is unable to render, please try loading this page with nbviewer.org.</b></div><div class=\"sk-container\" hidden><div class=\"sk-item\"><div class=\"sk-estimator sk-toggleable\"><input class=\"sk-toggleable__control sk-hidden--visually\" id=\"sk-estimator-id-1\" type=\"checkbox\" checked><label for=\"sk-estimator-id-1\" class=\"sk-toggleable__label sk-toggleable__label-arrow\">SVC</label><div class=\"sk-toggleable__content\"><pre>SVC(kernel=&#x27;linear&#x27;, probability=True, verbose=True)</pre></div></div></div></div></div>"
            ]
          },
          "metadata": {},
          "execution_count": 9
        }
      ]
    },
    {
      "metadata": {
        "id": "hZvqwrrAT6UV"
      },
      "cell_type": "markdown",
      "source": [
        "Now save the prediction results both as probability and as classes.  \n",
        "**`y_preds`** is a **1D vector** of one of `{0, 1}` values, denoting predictions as malignant and benign, respectively.  \n",
        "**`y_proba`** is a **2D vector**, where for each example, it contains a vector of length 2,  \n",
        "`[prob. of malignant, prob. of benign]`"
      ]
    },
    {
      "metadata": {
        "id": "1PdjKHbfT6AX"
      },
      "cell_type": "code",
      "source": [
        "y_preds = classifier.predict(X_test)\n",
        "y_proba = classifier.predict_proba(X_test)"
      ],
      "execution_count": null,
      "outputs": []
    },
    {
      "metadata": {
        "id": "b-9Dsn3yGXx7"
      },
      "cell_type": "markdown",
      "source": [
        "We need to reshape `y_proba` to a 1D vector denoting the probability of having  `benign` cancer."
      ]
    },
    {
      "metadata": {
        "id": "To9oQknC19dh"
      },
      "cell_type": "code",
      "source": [
        "y_proba = y_proba[:,1].reshape((y_proba.shape[0],))"
      ],
      "execution_count": null,
      "outputs": []
    },
    {
      "metadata": {
        "id": "J_VDguyUL7fu",
        "colab": {
          "base_uri": "https://localhost:8080/"
        },
        "outputId": "93c09cae-3067-4c55-e33b-d2dd46f78d57"
      },
      "cell_type": "code",
      "source": [
        "y_proba[:5], y_preds[:5], y_test[:5]"
      ],
      "execution_count": null,
      "outputs": [
        {
          "output_type": "execute_result",
          "data": {
            "text/plain": [
              "(array([0.99697262, 0.08136644, 0.99999168, 0.96809392, 0.99999907]),\n",
              " array([1, 0, 1, 1, 1]),\n",
              " array([1, 0, 1, 1, 1]))"
            ]
          },
          "metadata": {},
          "execution_count": 12
        }
      ]
    },
    {
      "metadata": {
        "id": "QM2WA4_FJfgT"
      },
      "cell_type": "markdown",
      "source": [
        "### Confusion Matrix"
      ]
    },
    {
      "metadata": {
        "id": "HEtVeYiBUDvH"
      },
      "cell_type": "markdown",
      "source": [
        "Let us calculate confusion matrix of the predictions. It is implemented in Scikit-learn's [`sklearn.metrics.confusion_matrix`](http://scikit-learn.org/stable/modules/generated/sklearn.metrics.confusion_matrix.html)."
      ]
    },
    {
      "metadata": {
        "id": "gXSq_kfcN8U8",
        "colab": {
          "base_uri": "https://localhost:8080/"
        },
        "outputId": "8aa22ddd-95da-4fdf-a6ca-cd1b14934dcd"
      },
      "cell_type": "code",
      "source": [
        "conf = metrics.confusion_matrix(y_test, y_preds)\n",
        "conf"
      ],
      "execution_count": null,
      "outputs": [
        {
          "output_type": "execute_result",
          "data": {
            "text/plain": [
              "array([[ 68,   7],\n",
              "       [  2, 123]])"
            ]
          },
          "metadata": {},
          "execution_count": 13
        }
      ]
    },
    {
      "metadata": {
        "id": "FISHOdmxqPXl"
      },
      "cell_type": "markdown",
      "source": [
        "We can also implement our own confusion matrix.  Here's my implementation."
      ]
    },
    {
      "metadata": {
        "id": "e1yDrh9AqZjB"
      },
      "cell_type": "code",
      "source": [
        "def get_confusion_matrix(y_true, y_pred):\n",
        "    n_classes = len(np.unique(y_true))\n",
        "    conf = np.zeros((n_classes, n_classes))\n",
        "    for actual, pred in zip(y_true, y_pred):\n",
        "        conf[int(actual)][int(pred)] += 1\n",
        "    return conf.astype('int')"
      ],
      "execution_count": null,
      "outputs": []
    },
    {
      "metadata": {
        "id": "txQRtyAZrnbG",
        "colab": {
          "base_uri": "https://localhost:8080/"
        },
        "outputId": "1eb31225-af7e-4cc1-f0bd-f17476c53662"
      },
      "cell_type": "code",
      "source": [
        "conf = get_confusion_matrix(y_test, y_preds)\n",
        "conf"
      ],
      "execution_count": null,
      "outputs": [
        {
          "output_type": "execute_result",
          "data": {
            "text/plain": [
              "array([[ 68,   7],\n",
              "       [  2, 123]])"
            ]
          },
          "metadata": {},
          "execution_count": 15
        }
      ]
    },
    {
      "metadata": {
        "id": "PiSZNOpnOeYu",
        "colab": {
          "base_uri": "https://localhost:8080/",
          "height": 441
        },
        "outputId": "a235e8bc-daca-42c8-ff6f-dad70a3d1a1b"
      },
      "cell_type": "code",
      "source": [
        "classes = [0, 1]\n",
        "# plot confusion matrix\n",
        "plt.figure(figsize=(8,4))\n",
        "\n",
        "plt.imshow(conf, interpolation='nearest', cmap=plt.cm.Greens)\n",
        "plt.title(\"Confusion Matrix\")\n",
        "plt.colorbar()\n",
        "tick_marks = np.arange(len(classes))\n",
        "plt.xticks(tick_marks, classes)\n",
        "plt.yticks(tick_marks, classes)\n",
        "\n",
        "fmt = 'd'\n",
        "thresh = conf.max() / 2.\n",
        "for i, j in itertools.product(range(conf.shape[0]), range(conf.shape[1])):\n",
        "    plt.text(j, i, format(conf[i, j], fmt),\n",
        "             horizontalalignment=\"center\",\n",
        "             color=\"white\" if conf[i, j] > thresh else \"black\")\n",
        "\n",
        "plt.tight_layout()\n",
        "plt.ylabel('Actual label')\n",
        "plt.xlabel('Predicted label')"
      ],
      "execution_count": null,
      "outputs": [
        {
          "output_type": "execute_result",
          "data": {
            "text/plain": [
              "Text(0.5, 10.249999999999995, 'Predicted label')"
            ]
          },
          "metadata": {},
          "execution_count": 16
        },
        {
          "output_type": "display_data",
          "data": {
            "text/plain": [
              "<Figure size 800x400 with 2 Axes>"
            ],
            "image/png": "[encoded data removed]"
          },
          "metadata": {}
        }
      ]
    },
    {
      "metadata": {
        "id": "v81eYMJ0UM29"
      },
      "cell_type": "markdown",
      "source": [
        "From the confusion matrix, we can see the number of examples predicted correct by our classifier, for both classes seperately.  \n",
        "We can get the numbers of `True Positives, True Negatives, False Positives, and False Negatives` from this confusion matrix.   \n",
        "Lets store these terms in some variables."
      ]
    },
    {
      "metadata": {
        "id": "gjTIQRccOr-A"
      },
      "cell_type": "code",
      "source": [
        "# from the confusion matrix\n",
        "TP = true_pos = 89\n",
        "TN = true_neg = 47\n",
        "FP = false_pos = 6\n",
        "FN = false_neg = 1"
      ],
      "execution_count": null,
      "outputs": []
    },
    {
      "metadata": {
        "id": "USDonfT5Jpr2"
      },
      "cell_type": "markdown",
      "source": [
        "### Some basic metrics"
      ]
    },
    {
      "metadata": {
        "id": "X5dcb4jEPpDR"
      },
      "cell_type": "markdown",
      "source": [
        "Now, we will calculate some basic metrics from these four values.  \n",
        "We will need a dictionary to store these metrics. Lets create a dictionary `results`."
      ]
    },
    {
      "metadata": {
        "id": "wFE2EKmxV_Xx"
      },
      "cell_type": "code",
      "source": [
        "results = {}"
      ],
      "execution_count": null,
      "outputs": []
    },
    {
      "metadata": {
        "id": "U6O_iUIHZqgj"
      },
      "cell_type": "markdown",
      "source": [
        "#### Accuracy\n",
        "number of examples correctly predicted / total number of examples  \n",
        "![alt text](https://wikimedia.org/api/rest_v1/media/math/render/svg/c72ec21ef2505c2d376e96197637fc64f75e5891)"
      ]
    },
    {
      "metadata": {
        "id": "4y3hcfI0WFfv",
        "colab": {
          "base_uri": "https://localhost:8080/"
        },
        "outputId": "a73fe49e-9f5b-4ab4-a46b-7ed062492fd7"
      },
      "cell_type": "code",
      "source": [
        "metric = \"ACC\"\n",
        "results[metric] = (TP + TN) / (TP + TN + FP + FN)\n",
        "print(f\"{metric} is {results[metric]: .3f}\")"
      ],
      "execution_count": null,
      "outputs": [
        {
          "output_type": "stream",
          "name": "stdout",
          "text": [
            "ACC is  0.951\n"
          ]
        }
      ]
    },
    {
      "metadata": {
        "id": "vjmFM1v_Z_a8"
      },
      "cell_type": "markdown",
      "source": [
        "#### True Positive Rate\n",
        "number of samples actually and predicted as  `Positive` / total number of samples actually `Positive`  \n",
        "Also called **Sensitivity or Recall**.  \n",
        "![alt text](https://wikimedia.org/api/rest_v1/media/math/render/svg/64d5540cbadeb83f864d7a731b7ab43cccd0f353)\n"
      ]
    },
    {
      "metadata": {
        "id": "q8JoI-S6WKMS",
        "colab": {
          "base_uri": "https://localhost:8080/"
        },
        "outputId": "cc93ea4e-0a19-47bb-93cc-69b30f34edb9"
      },
      "cell_type": "code",
      "source": [
        "# Sensitivity or Recall\n",
        "metric = \"TPR\"\n",
        "results[metric] = TP / (TP + FN)\n",
        "print(f\"{metric} is {results[metric]: .3f}\")"
      ],
      "execution_count": null,
      "outputs": [
        {
          "output_type": "stream",
          "name": "stdout",
          "text": [
            "TPR is  0.989\n"
          ]
        }
      ]
    },
    {
      "metadata": {
        "id": "f6y1c1SDa0Lg"
      },
      "cell_type": "markdown",
      "source": [
        "#### True Negative Rate\n",
        "number of samples actually and predicted as  `Negative` / total number of samples actually  `Negative`  \n",
        "Also called **Specificity**.  \n",
        "![alt text](https://wikimedia.org/api/rest_v1/media/math/render/svg/aac65b6586cb61c1268403895012c2a8f19b0c5e)\n"
      ]
    },
    {
      "metadata": {
        "id": "rkRmDKjSYLYE",
        "colab": {
          "base_uri": "https://localhost:8080/"
        },
        "outputId": "8e849e3b-cc2e-4f66-c00b-d264238e821b"
      },
      "cell_type": "code",
      "source": [
        "# Specificity\n",
        "metric = \"TNR\"\n",
        "results[metric] = TN / (TN + FP)\n",
        "print(f\"{metric} is {results[metric]: .3f}\")"
      ],
      "execution_count": null,
      "outputs": [
        {
          "output_type": "stream",
          "name": "stdout",
          "text": [
            "TNR is  0.887\n"
          ]
        }
      ]
    },
    {
      "metadata": {
        "id": "qK7WCIlpbDis"
      },
      "cell_type": "markdown",
      "source": [
        "#### Positive Predictive Value\n",
        "number of samples actually and predicted as  `Positive` / total number of samples predicted as `Positive`  \n",
        "Also called **Precision**.  \n",
        "![alt text](https://wikimedia.org/api/rest_v1/media/math/render/svg/699fcdb880b7f6a92742bc0845b8b60b59806a98)\n"
      ]
    },
    {
      "metadata": {
        "id": "lNgS7UwfYce9",
        "colab": {
          "base_uri": "https://localhost:8080/"
        },
        "outputId": "7b18f83d-af3c-48f4-beb1-ccd033b36d5a"
      },
      "cell_type": "code",
      "source": [
        "# Precision\n",
        "metric = \"PPV\"\n",
        "results[metric] = TP / (TP + FP)\n",
        "print(f\"{metric} is {results[metric]: .3f}\")"
      ],
      "execution_count": null,
      "outputs": [
        {
          "output_type": "stream",
          "name": "stdout",
          "text": [
            "PPV is  0.937\n"
          ]
        }
      ]
    },
    {
      "metadata": {
        "id": "VBPShM1JdQpO"
      },
      "cell_type": "markdown",
      "source": [
        "#### Negative Predictive Value\n",
        "number of samples actually and predicted as  `Negative` / total number of samples predicted as `Negative`    \n",
        "![alt text](https://wikimedia.org/api/rest_v1/media/math/render/svg/b6da0f59faffbc1704974e97847ab4fa599f5521)\n"
      ]
    },
    {
      "metadata": {
        "id": "qAAhCMaOdsSn",
        "colab": {
          "base_uri": "https://localhost:8080/"
        },
        "outputId": "e287526d-c6b7-432c-b0e8-66f9281c4343"
      },
      "cell_type": "code",
      "source": [
        "metric = \"NPV\"\n",
        "results[metric] = TN / (TN + FN)\n",
        "print(f\"{metric} is {results[metric]: .3f}\")"
      ],
      "execution_count": null,
      "outputs": [
        {
          "output_type": "stream",
          "name": "stdout",
          "text": [
            "NPV is  0.979\n"
          ]
        }
      ]
    },
    {
      "metadata": {
        "id": "D6mxQtZyfIte"
      },
      "cell_type": "markdown",
      "source": [
        "#### F1 score\n",
        "Harmonic Mean of Precision and Recall.  \n",
        "![alt text](https://wikimedia.org/api/rest_v1/media/math/render/svg/5663ca95d471868169c4e4ea57c936f1b6f4a588)"
      ]
    },
    {
      "metadata": {
        "id": "8pNnIhEbdzFc",
        "colab": {
          "base_uri": "https://localhost:8080/"
        },
        "outputId": "eb6043d6-e887-42e2-9165-b5100971c3ab"
      },
      "cell_type": "code",
      "source": [
        "metric = \"F1\"\n",
        "results[metric] = 2 / (1 / results[\"PPV\"] + 1 / results[\"TPR\"])\n",
        "print(f\"{metric} is {results[metric]: .3f}\")"
      ],
      "execution_count": null,
      "outputs": [
        {
          "output_type": "stream",
          "name": "stdout",
          "text": [
            "F1 is  0.962\n"
          ]
        }
      ]
    },
    {
      "metadata": {
        "id": "ZF98MS34edwA"
      },
      "cell_type": "markdown",
      "source": [
        "#### Matthew's correlation coefficient\n",
        "Matthew's coefficient range between `[-1, 1]`. `0` usually means totally random predictions. `1` means a perfect classifier, while a negative value (`[-1, 0)`) suggests a negative correlation between predictions and actual values.   \n",
        "Here' the formual for MCC  \n",
        "![alt text](https://wikimedia.org/api/rest_v1/media/math/render/svg/5caa90fc15105b74b59a30bbc9cc2e5bd43a13b7)"
      ]
    },
    {
      "metadata": {
        "id": "IxtxoxxmgZxI",
        "colab": {
          "base_uri": "https://localhost:8080/"
        },
        "outputId": "b6eb5b6a-dd4e-413b-86b5-52156729a693"
      },
      "cell_type": "code",
      "source": [
        "metric = \"MCC\"\n",
        "num = TP * TN - FP * FN\n",
        "den = ((TP + FP) * (TP + FN) * (TN + FP) * (TN + FN)) ** 0.5\n",
        "results[metric] = num / den\n",
        "print(f\"{metric} is {results[metric]: .3f}\")"
      ],
      "execution_count": null,
      "outputs": [
        {
          "output_type": "stream",
          "name": "stdout",
          "text": [
            "MCC is  0.896\n"
          ]
        }
      ]
    },
    {
      "metadata": {
        "id": "4S-Do05vg9js"
      },
      "cell_type": "markdown",
      "source": [
        "### Comparing these calculated metrics\n",
        "Let's check if these values match with the values calculated from `scikit-learn`'s functions."
      ]
    },
    {
      "metadata": {
        "id": "7R0RMkI0krAp",
        "colab": {
          "base_uri": "https://localhost:8080/"
        },
        "outputId": "5c80423c-da5c-4dc2-a687-1ad2156777f8"
      },
      "cell_type": "code",
      "source": [
        "print(f\"Calculated and Actual Accuracy:                          {results['ACC']: .3f}, {metrics.accuracy_score(y_test, y_preds): .3f}\")\n",
        "print(f\"Calculated and Actual Precision score:                   {results['PPV']: .3f}, {metrics.precision_score(y_test, y_preds): .3f}\")\n",
        "print(f\"Calculated and Actual Recall score:                      {results['TPR']: .3f}, {metrics.recall_score(y_test, y_preds): .3f}\")\n",
        "print(f\"Calculated and Actual F1 score:                          {results['F1']: .3f}, {metrics.f1_score(y_test, y_preds): .3f}\")\n",
        "print(f\"Calculated and Actual Matthew's correlation coefficient: {results['MCC']: .3f}, {metrics.matthews_corrcoef(y_test, y_preds): .3f}\")"
      ],
      "execution_count": null,
      "outputs": [
        {
          "output_type": "stream",
          "name": "stdout",
          "text": [
            "Calculated and Actual Accuracy:                           0.951,  0.955\n",
            "Calculated and Actual Precision score:                    0.937,  0.946\n",
            "Calculated and Actual Recall score:                       0.989,  0.984\n",
            "Calculated and Actual F1 score:                           0.962,  0.965\n",
            "Calculated and Actual Matthew's correlation coefficient:  0.896,  0.904\n"
          ]
        }
      ]
    },
    {
      "metadata": {
        "id": "7UI7NWzcpu8p"
      },
      "cell_type": "markdown",
      "source": [
        "### ROC curve (Receiver Operating Characteristic curve)\n",
        " A receiver operating characteristic curve, i.e. **ROC curve**, is a graphical plot that illustrates the diagnostic ability of a binary classifier system as its discrimination threshold is varied.  \n",
        " The ROC curve is created by plotting the **True Positive Rate (TPR)** against the **False Positive Rate (FPR)** at various threshold settings.  \n",
        " Let's plot the ROC curve for the Breast Cancer Dataset.  \n",
        "\n",
        " First we will create an ROC curve by calculating values manually at intervaled **thresholds**, then we will compare our results with the `scikit-learn`'s built-in `metrics.roc_curve`."
      ]
    },
    {
      "metadata": {
        "id": "1-gXSQ_HrdnI"
      },
      "cell_type": "code",
      "source": [
        "def get_roc_curve(y_test, y_proba, delta=0.1):\n",
        "    \"\"\"\n",
        "    Return the True Positive Rates (TPRs), False Positive Rates (FPRs),\n",
        "    and the threshold values, seperated by delta.\n",
        "    \"\"\"\n",
        "    thresh = list(np.arange(0, 1, delta)) + [1]\n",
        "    TPRs = []\n",
        "    FPRs = []\n",
        "    y_pred = np.empty(y_proba.shape)\n",
        "    for th in thresh:\n",
        "        y_pred[y_proba < th] = 0\n",
        "        y_pred[y_proba >= th] = 1\n",
        "\n",
        "        # confusion matrix from the function we defined\n",
        "        (TN, FP), (FN, TP) = get_confusion_matrix(y_test, y_pred)\n",
        "\n",
        "        TPR = TP / (TP + FN)  # sensitivity\n",
        "        FPR = FP / (FP + TN)  # 1 - specificity\n",
        "        TPRs.append(TPR)\n",
        "        FPRs.append(FPR)\n",
        "    return FPRs, TPRs, thresh"
      ],
      "execution_count": null,
      "outputs": []
    },
    {
      "metadata": {
        "id": "W3iQtSMKJ63N"
      },
      "cell_type": "markdown",
      "source": [
        "Here, `delta` is the difference between each of the thresholds at which ROC curve is calculated."
      ]
    },
    {
      "metadata": {
        "id": "2zkIsIz31HGY"
      },
      "cell_type": "code",
      "source": [
        "delta = 0.001\n",
        "FPRs, TPRs, _ = get_roc_curve(y_test, y_proba, delta)"
      ],
      "execution_count": null,
      "outputs": []
    },
    {
      "metadata": {
        "id": "Igzm5LZDzsNZ",
        "colab": {
          "base_uri": "https://localhost:8080/",
          "height": 419
        },
        "outputId": "8d357a1e-4224-411a-87f3-b4c0f92494df"
      },
      "cell_type": "code",
      "source": [
        "# Plot the ROC curve\n",
        "plt.figure(figsize=(5,4))\n",
        "\n",
        "plt.plot(FPRs, TPRs, color='red',\n",
        "         lw=2, label='ROC curve')\n",
        "plt.plot([0, 1], [0, 1], color='navy', lw=2, linestyle='--', label=\"Mean\")\n",
        "plt.xlim([-0.05, 1.0])\n",
        "plt.ylim([0.0, 1.05])\n",
        "plt.xlabel('False Positive Rate')\n",
        "plt.ylabel('True Positive Rate')\n",
        "plt.title(\"Scikit-learn's ROC curve\")\n",
        "plt.legend(loc=\"lower right\")\n",
        "plt.show()"
      ],
      "execution_count": null,
      "outputs": [
        {
          "output_type": "display_data",
          "data": {
            "text/plain": [
              "<Figure size 500x400 with 1 Axes>"
            ],
            "image/png": "[encoded data removed]"
          },
          "metadata": {}
        }
      ]
    },
    {
      "metadata": {
        "id": "q6B3omej42Rk"
      },
      "cell_type": "markdown",
      "source": [
        "The peak towards left-most corner means near perfect classifier, while random prediction will have the curve as the blue dotted straight line.  \n",
        "This ROC curve tells us that our model is nearly perfect classifier, with high accuracy :)"
      ]
    },
    {
      "metadata": {
        "id": "SW550-BH5nRb"
      },
      "cell_type": "markdown",
      "source": [
        "Let's calculate an ROC curve with random predictions, and plot it to see the difference."
      ]
    },
    {
      "metadata": {
        "id": "o6EvFVw655bo",
        "colab": {
          "base_uri": "https://localhost:8080/"
        },
        "outputId": "0540fd68-1ffb-4b7b-9d1d-9c9a23df2cd1"
      },
      "cell_type": "code",
      "source": [
        "# create random predictions\n",
        "rand_proba = np.random.random(size=(y_proba.shape))\n",
        "rand_proba[:5]  # 0.5 probability of being 0 or 1"
      ],
      "execution_count": null,
      "outputs": [
        {
          "output_type": "execute_result",
          "data": {
            "text/plain": [
              "array([0.79654299, 0.18343479, 0.779691  , 0.59685016, 0.44583275])"
            ]
          },
          "metadata": {},
          "execution_count": 109
        }
      ]
    },
    {
      "metadata": {
        "id": "ZNA8dltO6itt"
      },
      "cell_type": "code",
      "source": [
        "FPRs, TPRs, _ = get_roc_curve(y_test, rand_proba, delta)  # passing random preds"
      ],
      "execution_count": null,
      "outputs": []
    },
    {
      "metadata": {
        "id": "a-MFHXue2g4C",
        "colab": {
          "base_uri": "https://localhost:8080/",
          "height": 727
        },
        "outputId": "d964f2c7-6791-4bd8-e685-377697e8ffea"
      },
      "cell_type": "code",
      "source": [
        "# Plot the ROC curve\n",
        "plt.plot(FPRs, TPRs, color='red',\n",
        "         lw=2, label='ROC curve')\n",
        "plt.plot([0, 1], [0, 1], color='navy', lw=2, linestyle='--', label=\"Mean\")\n",
        "plt.xlim([-0.05, 1.0])\n",
        "plt.ylim([0.0, 1.05])\n",
        "plt.xlabel('False Positive Rate')\n",
        "plt.ylabel('True Positive Rate')\n",
        "plt.title(f'Random Predictions ROC curve (threshold delta = {delta})')\n",
        "plt.legend(loc=\"lower right\")\n",
        "plt.show()"
      ],
      "execution_count": null,
      "outputs": [
        {
          "output_type": "display_data",
          "data": {
            "text/plain": [
              "<Figure size 800x800 with 1 Axes>"
            ],
            "image/png": "[encoded data removed]"
          },
          "metadata": {}
        }
      ]
    },
    {
      "metadata": {
        "id": "JKHS-Skq-IPp"
      },
      "cell_type": "markdown",
      "source": [
        "As we can see from the above plot, random predictions give the ROC curve nearly at the mean.  \n",
        "Contrast it with the previous curve, how our model has top left peak, due to its superior performance."
      ]
    },
    {
      "metadata": {
        "id": "VOsclL50630Q"
      },
      "cell_type": "markdown",
      "source": [
        "---\n",
        "Now, let's see how these curve's are similiar to the ROC curve with scikit's implementation."
      ]
    },
    {
      "metadata": {
        "id": "azh7aCjE7Qid"
      },
      "cell_type": "code",
      "source": [
        "FPRs, TPRs, _ = metrics.roc_curve(y_test, y_proba)"
      ],
      "execution_count": null,
      "outputs": []
    },
    {
      "metadata": {
        "id": "L4-Eric87exv",
        "colab": {
          "base_uri": "https://localhost:8080/",
          "height": 727
        },
        "outputId": "9137462f-9994-4da9-b0cf-48969464b62f"
      },
      "cell_type": "code",
      "source": [
        "# Plot the ROC curve\n",
        "plt.plot(FPRs, TPRs, color='red',\n",
        "         lw=2, label='ROC curve')\n",
        "plt.plot([0, 1], [0, 1], color='navy', lw=2, linestyle='--', label=\"Mean\")\n",
        "plt.xlim([-0.05, 1.0])\n",
        "plt.ylim([0.0, 1.05])\n",
        "plt.xlabel('False Positive Rate')\n",
        "plt.ylabel('True Positive Rate')\n",
        "plt.title(\"Scikit-learn's ROC curve\")\n",
        "plt.legend(loc=\"lower right\")\n",
        "plt.show()"
      ],
      "execution_count": null,
      "outputs": [
        {
          "output_type": "display_data",
          "data": {
            "text/plain": [
              "<Figure size 800x800 with 1 Axes>"
            ],
            "image/png": "[encoded data removed]"
          },
          "metadata": {}
        }
      ]
    },
    {
      "metadata": {
        "id": "OHTRMD-57xM6"
      },
      "cell_type": "code",
      "source": [
        "FPRs, TPRs, _ = metrics.roc_curve(y_test, rand_proba)  # passing random preds"
      ],
      "execution_count": null,
      "outputs": []
    },
    {
      "metadata": {
        "id": "xYr2nKQm7yKI",
        "colab": {
          "base_uri": "https://localhost:8080/",
          "height": 727
        },
        "outputId": "cd49ec11-a081-4516-cfad-26e16fdaca8a"
      },
      "cell_type": "code",
      "source": [
        "# Plot the ROC curve\n",
        "plt.plot(FPRs, TPRs, color='red',\n",
        "         lw=2, label='ROC curve')\n",
        "plt.plot([0, 1], [0, 1], color='navy', lw=2, linestyle='--', label=\"Mean\")\n",
        "plt.xlim([-0.05, 1.0])\n",
        "plt.ylim([0.0, 1.05])\n",
        "plt.xlabel('False Positive Rate')\n",
        "plt.ylabel('True Positive Rate')\n",
        "plt.title(\"Scikit-learn's Random Predictions ROC curve\")\n",
        "plt.legend(loc=\"lower right\")\n",
        "plt.show()"
      ],
      "execution_count": null,
      "outputs": [
        {
          "output_type": "display_data",
          "data": {
            "text/plain": [
              "<Figure size 800x800 with 1 Axes>"
            ],
            "image/png": "[encoded data removed]"
          },
          "metadata": {}
        }
      ]
    },
    {
      "metadata": {
        "id": "wcQXLrk68FC1"
      },
      "cell_type": "markdown",
      "source": [
        "### ROC-AUC score\n",
        "Now, that we know about ROC curve, what it represents, **AUC score** is very easy to understand.  \n",
        "AUC stands for **Area under the Curve**, which is nothing but the area under the ROC curve formed by the predictions.  \n",
        "As we saw, a totally random prediction will have AUC score `0.5`, while a perfect classifier will have AUC score of `1`."
      ]
    },
    {
      "metadata": {
        "id": "JETH5mgtIs9Y"
      },
      "cell_type": "markdown",
      "source": [
        "Lets check the AUC score of our model."
      ]
    },
    {
      "metadata": {
        "id": "pQmvuU9AKUvm",
        "colab": {
          "base_uri": "https://localhost:8080/"
        },
        "outputId": "f16a7fc1-e0b0-433c-b956-350030dbea52"
      },
      "cell_type": "code",
      "source": [
        "auc_score = metrics.roc_auc_score(y_test, y_proba)\n",
        "print(f\"Scikit's ROC-AUC score of SVC model is {auc_score: .4f}\")"
      ],
      "execution_count": null,
      "outputs": [
        {
          "output_type": "stream",
          "name": "stdout",
          "text": [
            "Scikit's ROC-AUC score of SVC model is  0.9872\n"
          ]
        }
      ]
    },
    {
      "metadata": {
        "id": "IJFx9ubwddpn"
      },
      "cell_type": "markdown",
      "source": [
        "We can also calculate the **ROC-AUC score** by summing up the areas under each observation of FPRs and TPRs."
      ]
    },
    {
      "metadata": {
        "id": "cyx-Y4nPd6oL"
      },
      "cell_type": "code",
      "source": [
        "def get_roc_auc_score(y_test, y_proba):\n",
        "\n",
        "    # use the function get_roc_curve that we created.\n",
        "    FPRs, TPRs, _ = get_roc_curve(y_test, y_proba)\n",
        "    FPRs.reverse()\n",
        "    TPRs.reverse()\n",
        "    x1, y1 = FPRs[0], TPRs[0]\n",
        "    auc = 0.0\n",
        "    prev = 0.0\n",
        "    # cumulative differences in x-axis\n",
        "    diffs = [FPRs[i] - FPRs[i-1] for i in range(1, len(FPRs))]\n",
        "    for x, y in zip(diffs, TPRs[1:]):\n",
        "        auc += (x * y1)  # area of rectangle\n",
        "        auc += (x * (y - y1)/2)  # area of triangle formed (if any)\n",
        "        y1 = y\n",
        "    return auc"
      ],
      "execution_count": null,
      "outputs": []
    },
    {
      "metadata": {
        "id": "pqucApZPjn9H",
        "colab": {
          "base_uri": "https://localhost:8080/"
        },
        "outputId": "9c056669-a3d6-4748-dafa-38a9b5b0daab"
      },
      "cell_type": "code",
      "source": [
        "auc_score = get_roc_auc_score(y_test, y_proba)\n",
        "print(f\"Our ROC-AUC score of SVC model is {auc_score: .4f}\")"
      ],
      "execution_count": null,
      "outputs": [
        {
          "output_type": "stream",
          "name": "stdout",
          "text": [
            "Our ROC-AUC score of SVC model is  0.9874\n"
          ]
        }
      ]
    },
    {
      "metadata": {
        "id": "54g1PC2jK0MS"
      },
      "cell_type": "markdown",
      "source": [
        "This is a good ROC-AUC score as we expected. (Also pretty close to Scikit's implementation).  \n",
        "Lets try the ROC-AUC score of random predictions."
      ]
    },
    {
      "metadata": {
        "id": "p0970PIaLBYj",
        "colab": {
          "base_uri": "https://localhost:8080/"
        },
        "outputId": "c826a2cf-c448-4255-a24d-822b73ef2d88"
      },
      "cell_type": "code",
      "source": [
        "auc_score = metrics.roc_auc_score(y_test, rand_proba)\n",
        "print(f\"Scikit's ROC-AUC score of random predictions is: {auc_score: .4f}\")\n",
        "auc_score = get_roc_auc_score(y_test, rand_proba)\n",
        "print(f\"Our ROC-AUC score of random predictions is:      {auc_score: .4f}\")"
      ],
      "execution_count": null,
      "outputs": [
        {
          "output_type": "stream",
          "name": "stdout",
          "text": [
            "Scikit's ROC-AUC score of random predictions is:  0.5111\n",
            "Our ROC-AUC score of random predictions is:       0.5080\n"
          ]
        }
      ]
    },
    {
      "metadata": {
        "id": "Ara7jLPbLPXQ"
      },
      "cell_type": "markdown",
      "source": [
        "As expected, it is close to `0.5`.  \n",
        "(The minor differences are due to different granularity of thresholds chosen by us, and in Scikit's implementation. )"
      ]
    },
    {
      "cell_type": "code",
      "source": [],
      "metadata": {
        "id": "nJxuM_yVzjy2"
      },
      "execution_count": null,
      "outputs": []
    }
  ]
}